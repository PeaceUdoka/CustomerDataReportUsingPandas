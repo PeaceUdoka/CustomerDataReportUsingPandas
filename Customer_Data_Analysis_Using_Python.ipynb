{
  "cells": [
    {
      "cell_type": "markdown",
      "metadata": {
        "id": "view-in-github",
        "colab_type": "text"
      },
      "source": [
        "<a href=\"https://colab.research.google.com/github/PeaceUdoka/firstTrial/blob/main/Customer_Data_Analysis_Using_Python.ipynb\" target=\"_parent\"><img src=\"https://colab.research.google.com/assets/colab-badge.svg\" alt=\"Open In Colab\"/></a>"
      ]
    },
    {
      "cell_type": "markdown",
      "metadata": {
        "id": "UIEcWfvnHe7p"
      },
      "source": [
        "# Customer Data Analysis Using Python\n",
        "The dataset contains the data of customers in five different cities in India - Bengaluru, Chennai, Delhi, Kolkata and Mumbai.\n",
        "The data includes the following columns:\n",
        "1. CustomerID - a unique identification of each customer.\n",
        "2. CustomerGender \n",
        "3. CustomerAge\n",
        "4. CustomerCity\n",
        "5. AnnualIncome\n",
        "6. CreditScore - the higher the score, the higher the chances of the customer paying his bills/debts on time.\n",
        "7. SpendingScore - this is a measure(out of 100) of a customer's spending habits.\n",
        "8. CustomerCityID - this column wasn't relevant as it showed the same informmation as the CustomerCity."
      ]
    },
    {
      "cell_type": "markdown",
      "metadata": {
        "id": "6xN1K2fzHe7v"
      },
      "source": [
        "### Step 1 - Asking Questions\n",
        "The following questions were put forth to be answered based on the dataset.\n",
        "1. How does a customer's spending habit vary by age, gender, and annual income?\n",
        "2. How does a customer's credit score vary by age, gender, and annual income?\n",
        "3. What kind of customers should be targeted through marketing strategies to improve sales?\n"
      ]
    },
    {
      "cell_type": "markdown",
      "metadata": {
        "id": "QDiOkQJ3He7w"
      },
      "source": [
        "\n",
        "**Let's see what the data looks like:**"
      ]
    },
    {
      "cell_type": "code",
      "execution_count": null,
      "metadata": {
        "id": "eAJnJHNmHe7w"
      },
      "outputs": [],
      "source": [
        "#importing pandas libraries for data analysis and loading dataset\n",
        "import pandas as pd \n",
        "% matplotlib inline\n",
        "\n",
        "data = pd.read_csv(r\"Shopping_CustomerData.csv\")"
      ]
    },
    {
      "cell_type": "code",
      "execution_count": null,
      "metadata": {
        "id": "ICCE_aQZHe7y",
        "outputId": "85a02db5-8045-4e7b-e635-92d5e90861da"
      },
      "outputs": [
        {
          "data": {
            "text/html": [
              "<div>\n",
              "<style scoped>\n",
              "    .dataframe tbody tr th:only-of-type {\n",
              "        vertical-align: middle;\n",
              "    }\n",
              "\n",
              "    .dataframe tbody tr th {\n",
              "        vertical-align: top;\n",
              "    }\n",
              "\n",
              "    .dataframe thead th {\n",
              "        text-align: right;\n",
              "    }\n",
              "</style>\n",
              "<table border=\"1\" class=\"dataframe\">\n",
              "  <thead>\n",
              "    <tr style=\"text-align: right;\">\n",
              "      <th></th>\n",
              "      <th>CustomerID</th>\n",
              "      <th>CustomerGender</th>\n",
              "      <th>CustomerAge</th>\n",
              "      <th>CustomerCity</th>\n",
              "      <th>AnnualIncome</th>\n",
              "      <th>CreditScore</th>\n",
              "      <th>SpendingScore</th>\n",
              "      <th>CustomerCityID</th>\n",
              "    </tr>\n",
              "  </thead>\n",
              "  <tbody>\n",
              "    <tr>\n",
              "      <th>0</th>\n",
              "      <td>1001</td>\n",
              "      <td>Male</td>\n",
              "      <td>49</td>\n",
              "      <td>Bengaluru</td>\n",
              "      <td>527547.58850</td>\n",
              "      <td>653</td>\n",
              "      <td>78</td>\n",
              "      <td>1</td>\n",
              "    </tr>\n",
              "    <tr>\n",
              "      <th>1</th>\n",
              "      <td>1002</td>\n",
              "      <td>Male</td>\n",
              "      <td>59</td>\n",
              "      <td>Bengaluru</td>\n",
              "      <td>207143.19760</td>\n",
              "      <td>630</td>\n",
              "      <td>63</td>\n",
              "      <td>1</td>\n",
              "    </tr>\n",
              "    <tr>\n",
              "      <th>2</th>\n",
              "      <td>1003</td>\n",
              "      <td>Female</td>\n",
              "      <td>54</td>\n",
              "      <td>Delhi</td>\n",
              "      <td>164423.84570</td>\n",
              "      <td>555</td>\n",
              "      <td>69</td>\n",
              "      <td>4</td>\n",
              "    </tr>\n",
              "    <tr>\n",
              "      <th>3</th>\n",
              "      <td>1004</td>\n",
              "      <td>Female</td>\n",
              "      <td>42</td>\n",
              "      <td>Bengaluru</td>\n",
              "      <td>56220.36443</td>\n",
              "      <td>699</td>\n",
              "      <td>30</td>\n",
              "      <td>1</td>\n",
              "    </tr>\n",
              "    <tr>\n",
              "      <th>4</th>\n",
              "      <td>1005</td>\n",
              "      <td>Female</td>\n",
              "      <td>30</td>\n",
              "      <td>Bengaluru</td>\n",
              "      <td>256194.36190</td>\n",
              "      <td>793</td>\n",
              "      <td>6</td>\n",
              "      <td>1</td>\n",
              "    </tr>\n",
              "  </tbody>\n",
              "</table>\n",
              "</div>"
            ],
            "text/plain": [
              "   CustomerID CustomerGender  CustomerAge CustomerCity  AnnualIncome  \\\n",
              "0        1001           Male           49    Bengaluru  527547.58850   \n",
              "1        1002           Male           59    Bengaluru  207143.19760   \n",
              "2        1003         Female           54        Delhi  164423.84570   \n",
              "3        1004         Female           42    Bengaluru   56220.36443   \n",
              "4        1005         Female           30    Bengaluru  256194.36190   \n",
              "\n",
              "   CreditScore  SpendingScore  CustomerCityID  \n",
              "0          653             78               1  \n",
              "1          630             63               1  \n",
              "2          555             69               4  \n",
              "3          699             30               1  \n",
              "4          793              6               1  "
            ]
          },
          "execution_count": 2,
          "metadata": {},
          "output_type": "execute_result"
        }
      ],
      "source": [
        "#showing first few rows of dataset\n",
        "data.head()\n",
        "\n"
      ]
    },
    {
      "cell_type": "markdown",
      "metadata": {
        "id": "7VnFVSonHe7z"
      },
      "source": [
        "**Let's check the shape of the data**"
      ]
    },
    {
      "cell_type": "code",
      "execution_count": null,
      "metadata": {
        "id": "JfkOi4mRHe7z",
        "outputId": "5d64b829-e495-4063-ac64-82feb3b96642"
      },
      "outputs": [
        {
          "data": {
            "text/plain": [
              "(200, 8)"
            ]
          },
          "execution_count": 3,
          "metadata": {},
          "output_type": "execute_result"
        }
      ],
      "source": [
        "data.shape"
      ]
    },
    {
      "cell_type": "markdown",
      "metadata": {
        "id": "DHJV0g8fHe70"
      },
      "source": [
        "This shows that the dataset contains records of 200 customers with 8 features."
      ]
    },
    {
      "cell_type": "markdown",
      "metadata": {
        "id": "Dl-5VySuHe71"
      },
      "source": [
        "### Step 2 - Wrangle data\n",
        "Having seen what the data looks like, it needs to be assessed to identify any problems in its quality and cleaned approppriately.\n",
        "\n",
        "**Let's look at the summary statistics of the data to understand it better.**"
      ]
    },
    {
      "cell_type": "code",
      "execution_count": null,
      "metadata": {
        "id": "pCHk_owbHe72",
        "outputId": "fe34f4e8-9713-42c6-cbd6-b71f8d7ec5aa"
      },
      "outputs": [
        {
          "data": {
            "text/html": [
              "<div>\n",
              "<style scoped>\n",
              "    .dataframe tbody tr th:only-of-type {\n",
              "        vertical-align: middle;\n",
              "    }\n",
              "\n",
              "    .dataframe tbody tr th {\n",
              "        vertical-align: top;\n",
              "    }\n",
              "\n",
              "    .dataframe thead th {\n",
              "        text-align: right;\n",
              "    }\n",
              "</style>\n",
              "<table border=\"1\" class=\"dataframe\">\n",
              "  <thead>\n",
              "    <tr style=\"text-align: right;\">\n",
              "      <th></th>\n",
              "      <th>CustomerID</th>\n",
              "      <th>CustomerAge</th>\n",
              "      <th>AnnualIncome</th>\n",
              "      <th>CreditScore</th>\n",
              "      <th>SpendingScore</th>\n",
              "      <th>CustomerCityID</th>\n",
              "    </tr>\n",
              "  </thead>\n",
              "  <tbody>\n",
              "    <tr>\n",
              "      <th>count</th>\n",
              "      <td>200.000000</td>\n",
              "      <td>200.000000</td>\n",
              "      <td>200.000000</td>\n",
              "      <td>200.000000</td>\n",
              "      <td>200.00000</td>\n",
              "      <td>200.000000</td>\n",
              "    </tr>\n",
              "    <tr>\n",
              "      <th>mean</th>\n",
              "      <td>1100.500000</td>\n",
              "      <td>45.520000</td>\n",
              "      <td>285143.931646</td>\n",
              "      <td>719.975000</td>\n",
              "      <td>50.70500</td>\n",
              "      <td>2.850000</td>\n",
              "    </tr>\n",
              "    <tr>\n",
              "      <th>std</th>\n",
              "      <td>57.879185</td>\n",
              "      <td>16.113592</td>\n",
              "      <td>169229.187619</td>\n",
              "      <td>104.578236</td>\n",
              "      <td>28.72269</td>\n",
              "      <td>1.475938</td>\n",
              "    </tr>\n",
              "    <tr>\n",
              "      <th>min</th>\n",
              "      <td>1001.000000</td>\n",
              "      <td>18.000000</td>\n",
              "      <td>2577.057456</td>\n",
              "      <td>551.000000</td>\n",
              "      <td>2.00000</td>\n",
              "      <td>1.000000</td>\n",
              "    </tr>\n",
              "    <tr>\n",
              "      <th>25%</th>\n",
              "      <td>1050.750000</td>\n",
              "      <td>31.750000</td>\n",
              "      <td>153227.340950</td>\n",
              "      <td>628.250000</td>\n",
              "      <td>27.75000</td>\n",
              "      <td>1.750000</td>\n",
              "    </tr>\n",
              "    <tr>\n",
              "      <th>50%</th>\n",
              "      <td>1100.500000</td>\n",
              "      <td>46.500000</td>\n",
              "      <td>263418.505550</td>\n",
              "      <td>715.000000</td>\n",
              "      <td>48.00000</td>\n",
              "      <td>3.000000</td>\n",
              "    </tr>\n",
              "    <tr>\n",
              "      <th>75%</th>\n",
              "      <td>1150.250000</td>\n",
              "      <td>59.000000</td>\n",
              "      <td>384857.116200</td>\n",
              "      <td>806.250000</td>\n",
              "      <td>77.00000</td>\n",
              "      <td>4.000000</td>\n",
              "    </tr>\n",
              "    <tr>\n",
              "      <th>max</th>\n",
              "      <td>1200.000000</td>\n",
              "      <td>75.000000</td>\n",
              "      <td>695407.091700</td>\n",
              "      <td>897.000000</td>\n",
              "      <td>100.00000</td>\n",
              "      <td>5.000000</td>\n",
              "    </tr>\n",
              "  </tbody>\n",
              "</table>\n",
              "</div>"
            ],
            "text/plain": [
              "        CustomerID  CustomerAge   AnnualIncome  CreditScore  SpendingScore  \\\n",
              "count   200.000000   200.000000     200.000000   200.000000      200.00000   \n",
              "mean   1100.500000    45.520000  285143.931646   719.975000       50.70500   \n",
              "std      57.879185    16.113592  169229.187619   104.578236       28.72269   \n",
              "min    1001.000000    18.000000    2577.057456   551.000000        2.00000   \n",
              "25%    1050.750000    31.750000  153227.340950   628.250000       27.75000   \n",
              "50%    1100.500000    46.500000  263418.505550   715.000000       48.00000   \n",
              "75%    1150.250000    59.000000  384857.116200   806.250000       77.00000   \n",
              "max    1200.000000    75.000000  695407.091700   897.000000      100.00000   \n",
              "\n",
              "       CustomerCityID  \n",
              "count      200.000000  \n",
              "mean         2.850000  \n",
              "std          1.475938  \n",
              "min          1.000000  \n",
              "25%          1.750000  \n",
              "50%          3.000000  \n",
              "75%          4.000000  \n",
              "max          5.000000  "
            ]
          },
          "execution_count": 4,
          "metadata": {},
          "output_type": "execute_result"
        }
      ],
      "source": [
        "data.describe()"
      ]
    },
    {
      "cell_type": "markdown",
      "metadata": {
        "id": "dlUsg6o7He72"
      },
      "source": [
        "The following inferences can be derived from the summary statistics:\n",
        "1. The count is 200 means the record is for 200 customers.\n",
        "2. The minimum age of customers is 18 and the maximum age is 75. The mean age is 45 and the median is 46. Mean < Median. This means that more of the elderly ones prefer to go shopping in these cities.\n",
        "3. The minimum annual income of customers is \\\\$2k. Maximum is \\\\$695k, mean is \\\\$285k and median is \\\\$263k. \n",
        "4. The minimum credit score is 551 and the maximum is 897. This shows that customers in this region are credit-worthy.\n",
        "5. The minimum spending score is 2 and the maximum is 100. This shows how inclusive the data is. \n",
        "\n",
        "The following problems can be pointed out:\n",
        "1. The CustomerCityID column isnt necessary and hence should be removed.\n",
        "3. The CustomerID column is not in the right format.\n",
        "\n",
        "**Let's resolve these problems**"
      ]
    },
    {
      "cell_type": "code",
      "execution_count": null,
      "metadata": {
        "id": "Jn1yWDOwHe73"
      },
      "outputs": [],
      "source": [
        "del data[\"CustomerCityID\"] #deletes customercityID column\n"
      ]
    },
    {
      "cell_type": "code",
      "execution_count": null,
      "metadata": {
        "id": "0HwIAtkTHe73",
        "outputId": "3770938d-8cfc-4f68-c6e1-de6487e3243d"
      },
      "outputs": [
        {
          "data": {
            "text/html": [
              "<div>\n",
              "<style scoped>\n",
              "    .dataframe tbody tr th:only-of-type {\n",
              "        vertical-align: middle;\n",
              "    }\n",
              "\n",
              "    .dataframe tbody tr th {\n",
              "        vertical-align: top;\n",
              "    }\n",
              "\n",
              "    .dataframe thead th {\n",
              "        text-align: right;\n",
              "    }\n",
              "</style>\n",
              "<table border=\"1\" class=\"dataframe\">\n",
              "  <thead>\n",
              "    <tr style=\"text-align: right;\">\n",
              "      <th></th>\n",
              "      <th>CustomerID</th>\n",
              "      <th>CustomerGender</th>\n",
              "      <th>CustomerAge</th>\n",
              "      <th>CustomerCity</th>\n",
              "      <th>AnnualIncome</th>\n",
              "      <th>CreditScore</th>\n",
              "      <th>SpendingScore</th>\n",
              "    </tr>\n",
              "  </thead>\n",
              "  <tbody>\n",
              "    <tr>\n",
              "      <th>0</th>\n",
              "      <td>1001</td>\n",
              "      <td>Male</td>\n",
              "      <td>49</td>\n",
              "      <td>Bengaluru</td>\n",
              "      <td>527547.58850</td>\n",
              "      <td>653</td>\n",
              "      <td>78</td>\n",
              "    </tr>\n",
              "    <tr>\n",
              "      <th>1</th>\n",
              "      <td>1002</td>\n",
              "      <td>Male</td>\n",
              "      <td>59</td>\n",
              "      <td>Bengaluru</td>\n",
              "      <td>207143.19760</td>\n",
              "      <td>630</td>\n",
              "      <td>63</td>\n",
              "    </tr>\n",
              "    <tr>\n",
              "      <th>2</th>\n",
              "      <td>1003</td>\n",
              "      <td>Female</td>\n",
              "      <td>54</td>\n",
              "      <td>Delhi</td>\n",
              "      <td>164423.84570</td>\n",
              "      <td>555</td>\n",
              "      <td>69</td>\n",
              "    </tr>\n",
              "    <tr>\n",
              "      <th>3</th>\n",
              "      <td>1004</td>\n",
              "      <td>Female</td>\n",
              "      <td>42</td>\n",
              "      <td>Bengaluru</td>\n",
              "      <td>56220.36443</td>\n",
              "      <td>699</td>\n",
              "      <td>30</td>\n",
              "    </tr>\n",
              "    <tr>\n",
              "      <th>4</th>\n",
              "      <td>1005</td>\n",
              "      <td>Female</td>\n",
              "      <td>30</td>\n",
              "      <td>Bengaluru</td>\n",
              "      <td>256194.36190</td>\n",
              "      <td>793</td>\n",
              "      <td>6</td>\n",
              "    </tr>\n",
              "  </tbody>\n",
              "</table>\n",
              "</div>"
            ],
            "text/plain": [
              "   CustomerID CustomerGender  CustomerAge CustomerCity  AnnualIncome  \\\n",
              "0        1001           Male           49    Bengaluru  527547.58850   \n",
              "1        1002           Male           59    Bengaluru  207143.19760   \n",
              "2        1003         Female           54        Delhi  164423.84570   \n",
              "3        1004         Female           42    Bengaluru   56220.36443   \n",
              "4        1005         Female           30    Bengaluru  256194.36190   \n",
              "\n",
              "   CreditScore  SpendingScore  \n",
              "0          653             78  \n",
              "1          630             63  \n",
              "2          555             69  \n",
              "3          699             30  \n",
              "4          793              6  "
            ]
          },
          "execution_count": 6,
          "metadata": {},
          "output_type": "execute_result"
        }
      ],
      "source": [
        "data.head()\n"
      ]
    },
    {
      "cell_type": "code",
      "execution_count": null,
      "metadata": {
        "id": "vI9uzYp3He74"
      },
      "outputs": [],
      "source": [
        "data[\"CustomerID\"].astype(str) #converts to string\n"
      ]
    },
    {
      "cell_type": "markdown",
      "metadata": {
        "id": "taIOmXDgHe74"
      },
      "source": [
        "Next, let's make CustomerID column the index"
      ]
    },
    {
      "cell_type": "code",
      "execution_count": null,
      "metadata": {
        "id": "RylfHK--He74",
        "outputId": "7fa13644-190f-49e8-8576-128ae0a6655f"
      },
      "outputs": [
        {
          "data": {
            "text/html": [
              "<div>\n",
              "<style scoped>\n",
              "    .dataframe tbody tr th:only-of-type {\n",
              "        vertical-align: middle;\n",
              "    }\n",
              "\n",
              "    .dataframe tbody tr th {\n",
              "        vertical-align: top;\n",
              "    }\n",
              "\n",
              "    .dataframe thead th {\n",
              "        text-align: right;\n",
              "    }\n",
              "</style>\n",
              "<table border=\"1\" class=\"dataframe\">\n",
              "  <thead>\n",
              "    <tr style=\"text-align: right;\">\n",
              "      <th></th>\n",
              "      <th>CustomerGender</th>\n",
              "      <th>CustomerAge</th>\n",
              "      <th>CustomerCity</th>\n",
              "      <th>AnnualIncome</th>\n",
              "      <th>CreditScore</th>\n",
              "      <th>SpendingScore</th>\n",
              "    </tr>\n",
              "    <tr>\n",
              "      <th>CustomerID</th>\n",
              "      <th></th>\n",
              "      <th></th>\n",
              "      <th></th>\n",
              "      <th></th>\n",
              "      <th></th>\n",
              "      <th></th>\n",
              "    </tr>\n",
              "  </thead>\n",
              "  <tbody>\n",
              "    <tr>\n",
              "      <th>1001</th>\n",
              "      <td>Male</td>\n",
              "      <td>49</td>\n",
              "      <td>Bengaluru</td>\n",
              "      <td>527547.58850</td>\n",
              "      <td>653</td>\n",
              "      <td>78</td>\n",
              "    </tr>\n",
              "    <tr>\n",
              "      <th>1002</th>\n",
              "      <td>Male</td>\n",
              "      <td>59</td>\n",
              "      <td>Bengaluru</td>\n",
              "      <td>207143.19760</td>\n",
              "      <td>630</td>\n",
              "      <td>63</td>\n",
              "    </tr>\n",
              "    <tr>\n",
              "      <th>1003</th>\n",
              "      <td>Female</td>\n",
              "      <td>54</td>\n",
              "      <td>Delhi</td>\n",
              "      <td>164423.84570</td>\n",
              "      <td>555</td>\n",
              "      <td>69</td>\n",
              "    </tr>\n",
              "    <tr>\n",
              "      <th>1004</th>\n",
              "      <td>Female</td>\n",
              "      <td>42</td>\n",
              "      <td>Bengaluru</td>\n",
              "      <td>56220.36443</td>\n",
              "      <td>699</td>\n",
              "      <td>30</td>\n",
              "    </tr>\n",
              "    <tr>\n",
              "      <th>1005</th>\n",
              "      <td>Female</td>\n",
              "      <td>30</td>\n",
              "      <td>Bengaluru</td>\n",
              "      <td>256194.36190</td>\n",
              "      <td>793</td>\n",
              "      <td>6</td>\n",
              "    </tr>\n",
              "  </tbody>\n",
              "</table>\n",
              "</div>"
            ],
            "text/plain": [
              "           CustomerGender  CustomerAge CustomerCity  AnnualIncome  \\\n",
              "CustomerID                                                          \n",
              "1001                 Male           49    Bengaluru  527547.58850   \n",
              "1002                 Male           59    Bengaluru  207143.19760   \n",
              "1003               Female           54        Delhi  164423.84570   \n",
              "1004               Female           42    Bengaluru   56220.36443   \n",
              "1005               Female           30    Bengaluru  256194.36190   \n",
              "\n",
              "            CreditScore  SpendingScore  \n",
              "CustomerID                              \n",
              "1001                653             78  \n",
              "1002                630             63  \n",
              "1003                555             69  \n",
              "1004                699             30  \n",
              "1005                793              6  "
            ]
          },
          "execution_count": 7,
          "metadata": {},
          "output_type": "execute_result"
        }
      ],
      "source": [
        "data.set_index(\"CustomerID\").head()"
      ]
    },
    {
      "cell_type": "markdown",
      "metadata": {
        "id": "IndjAr6qHe75"
      },
      "source": [
        "### Step 3 - Explore Data Through Visualizations\n",
        "Now that all problems in the data have been fixed, let's go ahead to explore and find patterns through visualisations.\n",
        "\n",
        "**Distribution of Gender Using a Pie Chart**"
      ]
    },
    {
      "cell_type": "code",
      "execution_count": null,
      "metadata": {
        "id": "Bx1kLgIGHe75",
        "outputId": "1d579f15-3fe0-4475-bae1-2ce375498fe1"
      },
      "outputs": [
        {
          "data": {
            "text/plain": [
              "<matplotlib.axes._subplots.AxesSubplot at 0x737ee70>"
            ]
          },
          "execution_count": 8,
          "metadata": {},
          "output_type": "execute_result"
        },
        {
          "data": {
            "image/png": "[encoded data removed]",
            "text/plain": [
              "<Figure size 432x432 with 1 Axes>"
            ]
          },
          "metadata": {},
          "output_type": "display_data"
        }
      ],
      "source": [
        "data[\"CustomerGender\"].value_counts().plot(kind = \"pie\", figsize = (6,6), autopct = \"%1.0f%%\")"
      ]
    },
    {
      "cell_type": "markdown",
      "metadata": {
        "id": "AF1NCJVXHe75"
      },
      "source": [
        "#### The pie chart shows that there is a greater percentage of females(56%) that are customers than males(44%). This is important considering the fact that males have a higher population than females.\n",
        "\n",
        "### Distribution of Customers by City"
      ]
    },
    {
      "cell_type": "code",
      "execution_count": null,
      "metadata": {
        "scrolled": true,
        "id": "YEnPDM3dHe76",
        "outputId": "6abcf72e-ca0d-4543-a2a6-8187ea928a1a"
      },
      "outputs": [
        {
          "data": {
            "text/plain": [
              "<matplotlib.axes._subplots.AxesSubplot at 0x8974f50>"
            ]
          },
          "execution_count": 9,
          "metadata": {},
          "output_type": "execute_result"
        },
        {
          "data": {
            "image/png": "[encoded data removed]",
            "text/plain": [
              "<Figure size 432x288 with 1 Axes>"
            ]
          },
          "metadata": {
            "needs_background": "light"
          },
          "output_type": "display_data"
        }
      ],
      "source": [
        "data[\"CustomerCity\"].value_counts().plot(kind=\"bar\", color = \"blue\")\n",
        "#plt.bar(data[\"CustomerCity\"], data[\"CustomerID\"])"
      ]
    },
    {
      "cell_type": "markdown",
      "metadata": {
        "id": "glMxOSNdHe76"
      },
      "source": [
        "The bar chart above shows that **Bengaluru has the highest number of recorded customers.**\n",
        "\n",
        "### Distribution of Age"
      ]
    },
    {
      "cell_type": "code",
      "execution_count": null,
      "metadata": {
        "id": "PeB0qAvtHe77",
        "outputId": "e77624a6-92c2-4e09-e728-08b10b59a929"
      },
      "outputs": [
        {
          "data": {
            "text/plain": [
              "<matplotlib.axes._subplots.AxesSubplot at 0xb63b10>"
            ]
          },
          "execution_count": 10,
          "metadata": {},
          "output_type": "execute_result"
        },
        {
          "data": {
            "image/png": "[encoded data removed]",
            "text/plain": [
              "<Figure size 1440x432 with 1 Axes>"
            ]
          },
          "metadata": {
            "needs_background": "light"
          },
          "output_type": "display_data"
        }
      ],
      "source": [
        "data[\"CustomerAge\"].value_counts().sort_index().plot(kind=\"bar\", color = \"blue\", figsize=(20,6))"
      ]
    },
    {
      "cell_type": "markdown",
      "metadata": {
        "id": "8OOjbWELHe77"
      },
      "source": [
        "From the plot, it can be seen that majority of the customers are are in the age range 45 to 66. Customers in their 20s to 40s go shopping almost but not as much as the former category. Fewer customers in the age range of 67 to 75 go shopping. "
      ]
    },
    {
      "cell_type": "markdown",
      "metadata": {
        "id": "s28JuTGFHe78"
      },
      "source": [
        "\n",
        "\n",
        "### Average SpendingScores by City\n",
        "\n"
      ]
    },
    {
      "cell_type": "code",
      "execution_count": null,
      "metadata": {
        "id": "DOx82LdGHe78",
        "outputId": "add9b3db-f024-4bce-9070-52336ad524ac"
      },
      "outputs": [
        {
          "data": {
            "text/plain": [
              "<matplotlib.axes._subplots.AxesSubplot at 0xc36150>"
            ]
          },
          "execution_count": 11,
          "metadata": {},
          "output_type": "execute_result"
        },
        {
          "data": {
            "image/png": "[encoded data removed]",
            "text/plain": [
              "<Figure size 432x288 with 1 Axes>"
            ]
          },
          "metadata": {
            "needs_background": "light"
          },
          "output_type": "display_data"
        }
      ],
      "source": [
        "data.groupby(\"CustomerCity\")[\"SpendingScore\"].mean().plot(kind=\"bar\", color=\"blue\")\n"
      ]
    },
    {
      "cell_type": "markdown",
      "metadata": {
        "id": "J-JRPVfUHe79"
      },
      "source": [
        "The chart above shows that an average Koikata customer has highest spending score of all cities.\n",
        "\n",
        "### Average Spendingscore by Gender"
      ]
    },
    {
      "cell_type": "code",
      "execution_count": null,
      "metadata": {
        "id": "Kt_6tEA2He79",
        "outputId": "8a8e1128-ed02-48bc-f025-f5e9b6850087"
      },
      "outputs": [
        {
          "data": {
            "text/plain": [
              "<matplotlib.axes._subplots.AxesSubplot at 0xca2ad0>"
            ]
          },
          "execution_count": 12,
          "metadata": {},
          "output_type": "execute_result"
        },
        {
          "data": {
            "image/png": "[encoded data removed]",
            "text/plain": [
              "<Figure size 432x288 with 1 Axes>"
            ]
          },
          "metadata": {
            "needs_background": "light"
          },
          "output_type": "display_data"
        }
      ],
      "source": [
        "data.groupby(\"CustomerGender\")[\"SpendingScore\"].mean().plot(kind=\"bar\", color=\"blue\")"
      ]
    },
    {
      "cell_type": "markdown",
      "metadata": {
        "id": "eZDGKIs8He7-"
      },
      "source": [
        "This shows that that Females spend more than males as they tend to go shopping more than males."
      ]
    },
    {
      "cell_type": "markdown",
      "metadata": {
        "id": "m5Lgl09iHe7-"
      },
      "source": [
        "### Relationship Between Age and SpendingScore"
      ]
    },
    {
      "cell_type": "code",
      "execution_count": null,
      "metadata": {
        "id": "tAzO7wYLHe7-",
        "outputId": "da5e960c-f822-4309-d6a0-dc6b55f9a611"
      },
      "outputs": [
        {
          "data": {
            "text/plain": [
              "<matplotlib.axes._subplots.AxesSubplot at 0xc6b090>"
            ]
          },
          "execution_count": 13,
          "metadata": {},
          "output_type": "execute_result"
        },
        {
          "data": {
            "image/png": "[encoded data removed]",
            "text/plain": [
              "<Figure size 1440x288 with 1 Axes>"
            ]
          },
          "metadata": {
            "needs_background": "light"
          },
          "output_type": "display_data"
        }
      ],
      "source": [
        "data.plot(x=\"CustomerAge\",  y=\"SpendingScore\", kind=\"scatter\", figsize=(20,4))"
      ]
    },
    {
      "cell_type": "markdown",
      "metadata": {
        "id": "AMmjtuA1He7_"
      },
      "source": [
        "From the scatter plot above, there is no clear distinction in the effect of Age on Spending Score.\n",
        "\n",
        "### Relationship Between AnnualIncome and SpendingScore"
      ]
    },
    {
      "cell_type": "code",
      "execution_count": null,
      "metadata": {
        "id": "_sVs0cVYHe7_",
        "outputId": "16709644-0eee-49be-b4a3-0c83d91c5b71"
      },
      "outputs": [
        {
          "data": {
            "text/plain": [
              "<matplotlib.axes._subplots.AxesSubplot at 0x5853c70>"
            ]
          },
          "execution_count": 14,
          "metadata": {},
          "output_type": "execute_result"
        },
        {
          "data": {
            "image/png": "[encoded data removed]",
            "text/plain": [
              "<Figure size 1440x288 with 1 Axes>"
            ]
          },
          "metadata": {
            "needs_background": "light"
          },
          "output_type": "display_data"
        }
      ],
      "source": [
        "data.plot(x=\"AnnualIncome\",  y=\"SpendingScore\", kind=\"scatter\", figsize=(20,4))"
      ]
    },
    {
      "cell_type": "markdown",
      "metadata": {
        "id": "N35B1uw6He7_"
      },
      "source": [
        "The scatter plot shows that SpendingScore is more when AnnualIncome is between \\\\$200000 and \\\\$400000.\n",
        "However, as AnnualIncome fell below \\\\$100000, the SpendingScore also reduced."
      ]
    },
    {
      "cell_type": "markdown",
      "metadata": {
        "id": "XrvTVEE9He7_"
      },
      "source": [
        "### Average AnnualIncome by Gender"
      ]
    },
    {
      "cell_type": "code",
      "execution_count": null,
      "metadata": {
        "id": "CLjL_0jDHe7_",
        "outputId": "440b46a8-c5bc-4ca7-faed-921811d5e1dd"
      },
      "outputs": [
        {
          "data": {
            "text/plain": [
              "<matplotlib.axes._subplots.AxesSubplot at 0x5853d10>"
            ]
          },
          "execution_count": 15,
          "metadata": {},
          "output_type": "execute_result"
        },
        {
          "data": {
            "image/png": "[encoded data removed]",
            "text/plain": [
              "<Figure size 432x288 with 1 Axes>"
            ]
          },
          "metadata": {
            "needs_background": "light"
          },
          "output_type": "display_data"
        }
      ],
      "source": [
        "data.groupby(\"CustomerGender\")[\"AnnualIncome\"].mean().plot(kind = \"bar\", color=(\"blue\", \"orange\"))\n"
      ]
    },
    {
      "cell_type": "markdown",
      "metadata": {
        "id": "kyCOefTQHe8A"
      },
      "source": [
        "This goes to prove why the average females shop more than males in these cities because they have a higher annual income.\n",
        "Even the total average income of the female customers is higher than that of males as shown below."
      ]
    },
    {
      "cell_type": "code",
      "execution_count": null,
      "metadata": {
        "id": "ULaZHte1He8A",
        "outputId": "b7a29504-f1dc-4e66-ec73-62a0e13d84d9"
      },
      "outputs": [
        {
          "data": {
            "text/plain": [
              "<matplotlib.axes._subplots.AxesSubplot at 0x58c5b50>"
            ]
          },
          "execution_count": 16,
          "metadata": {},
          "output_type": "execute_result"
        },
        {
          "data": {
            "image/png": "[encoded data removed]",
            "text/plain": [
              "<Figure size 432x288 with 1 Axes>"
            ]
          },
          "metadata": {
            "needs_background": "light"
          },
          "output_type": "display_data"
        }
      ],
      "source": [
        "data.groupby(\"CustomerGender\")[\"AnnualIncome\"].sum().plot(kind = \"bar\", color=(\"blue\", \"orange\"))"
      ]
    },
    {
      "cell_type": "markdown",
      "metadata": {
        "id": "7F8sB59KHe8A"
      },
      "source": [
        "### Average AnnuualIncome by City"
      ]
    },
    {
      "cell_type": "code",
      "execution_count": null,
      "metadata": {
        "id": "qLd2zfKyHe8B",
        "outputId": "6fd848d8-6fcb-48a8-ba8a-67ecd55199d4"
      },
      "outputs": [
        {
          "data": {
            "text/plain": [
              "<matplotlib.axes._subplots.AxesSubplot at 0x590fa30>"
            ]
          },
          "execution_count": 17,
          "metadata": {},
          "output_type": "execute_result"
        },
        {
          "data": {
            "image/png": "[encoded data removed]",
            "text/plain": [
              "<Figure size 432x288 with 1 Axes>"
            ]
          },
          "metadata": {
            "needs_background": "light"
          },
          "output_type": "display_data"
        }
      ],
      "source": [
        "data.groupby(\"CustomerCity\")[\"AnnualIncome\"].mean().plot(kind=\"bar\", color=\"blue\")"
      ]
    },
    {
      "cell_type": "markdown",
      "metadata": {
        "id": "wLGK_X59He8B"
      },
      "source": [
        "An average Chennai customer has the highest Annual Income in all five cities with Mumbai being a close second."
      ]
    },
    {
      "cell_type": "markdown",
      "metadata": {
        "id": "x3btv5hhHe8B"
      },
      "source": [
        "### Average CreditScore by Gender"
      ]
    },
    {
      "cell_type": "code",
      "execution_count": null,
      "metadata": {
        "id": "KXtiDlqzHe8B",
        "outputId": "0d8fdb61-8a32-434d-db91-cd1826f80502"
      },
      "outputs": [
        {
          "data": {
            "text/plain": [
              "<matplotlib.axes._subplots.AxesSubplot at 0x594abb0>"
            ]
          },
          "execution_count": 18,
          "metadata": {},
          "output_type": "execute_result"
        },
        {
          "data": {
            "image/png": "[encoded data removed]",
            "text/plain": [
              "<Figure size 288x288 with 1 Axes>"
            ]
          },
          "metadata": {},
          "output_type": "display_data"
        }
      ],
      "source": [
        "data.groupby(\"CustomerGender\")[\"CreditScore\"].mean().plot(kind=\"pie\", figsize = (4,4), autopct=\"%1.0f%%\")"
      ]
    },
    {
      "cell_type": "markdown",
      "metadata": {
        "id": "XrqI7xkaHe8B"
      },
      "source": [
        "Despite the difference in their AnnualIncomes and SpendingScores,both male and female customers in these cities are creditworthy."
      ]
    },
    {
      "cell_type": "markdown",
      "metadata": {
        "id": "RREmHzQIHe8C"
      },
      "source": [
        "### Average CreditScore by City"
      ]
    },
    {
      "cell_type": "code",
      "execution_count": null,
      "metadata": {
        "id": "wE5YqaQEHe8C",
        "outputId": "4f396e92-0070-4c21-ce00-566c40443aea"
      },
      "outputs": [
        {
          "data": {
            "text/plain": [
              "<matplotlib.axes._subplots.AxesSubplot at 0x5972970>"
            ]
          },
          "execution_count": 19,
          "metadata": {},
          "output_type": "execute_result"
        },
        {
          "data": {
            "image/png": "[encoded data removed]",
            "text/plain": [
              "<Figure size 1440x288 with 1 Axes>"
            ]
          },
          "metadata": {
            "needs_background": "light"
          },
          "output_type": "display_data"
        }
      ],
      "source": [
        "data.groupby(\"CustomerCity\")[\"CreditScore\"].mean().plot(kind=\"bar\", figsize=(20,4), color = \"blue\")"
      ]
    },
    {
      "cell_type": "markdown",
      "metadata": {
        "id": "P6yCH4yfHe8C"
      },
      "source": [
        "From the two plots above, it can be seen that no matter the gender or City, the average Customer Credit score is credit-worthy"
      ]
    },
    {
      "cell_type": "markdown",
      "metadata": {
        "id": "aHLSwFTjHe8C"
      },
      "source": [
        "### Relationship Between AnnualIncome, SpendingScore and CreditScore\n"
      ]
    },
    {
      "cell_type": "code",
      "execution_count": null,
      "metadata": {
        "id": "VW0Nee_THe8C",
        "outputId": "73f50f7d-a50e-4699-887b-c53028f38983"
      },
      "outputs": [
        {
          "data": {
            "text/plain": [
              "<matplotlib.axes._subplots.AxesSubplot at 0x59ade30>"
            ]
          },
          "execution_count": 20,
          "metadata": {},
          "output_type": "execute_result"
        },
        {
          "data": {
            "image/png": "[encoded data removed]",
            "text/plain": [
              "<Figure size 1440x288 with 1 Axes>"
            ]
          },
          "metadata": {
            "needs_background": "light"
          },
          "output_type": "display_data"
        }
      ],
      "source": [
        "data.plot(y=\"CreditScore\", x=\"AnnualIncome\", kind=\"scatter\", figsize=(20,4))"
      ]
    },
    {
      "cell_type": "code",
      "execution_count": null,
      "metadata": {
        "id": "GPwi8i7iHe8D",
        "outputId": "dda33843-32bb-4086-801f-a5b16e56bb6a"
      },
      "outputs": [
        {
          "data": {
            "text/plain": [
              "<matplotlib.axes._subplots.AxesSubplot at 0x59f2490>"
            ]
          },
          "execution_count": 21,
          "metadata": {},
          "output_type": "execute_result"
        },
        {
          "data": {
            "image/png": "[encoded data removed]",
            "text/plain": [
              "<Figure size 1440x288 with 1 Axes>"
            ]
          },
          "metadata": {
            "needs_background": "light"
          },
          "output_type": "display_data"
        }
      ],
      "source": [
        "data.plot(x=\"CreditScore\", y=\"SpendingScore\", kind=\"scatter\", figsize=(20,4))"
      ]
    },
    {
      "cell_type": "markdown",
      "metadata": {
        "id": "VH6eK092He8D"
      },
      "source": [
        "The two scatter plots above show that CreditScore has no clear relationship with AnnualIncome and SpendingScore"
      ]
    },
    {
      "cell_type": "markdown",
      "metadata": {
        "id": "LCOci0gDHe8D"
      },
      "source": [
        "## CONCLUSION"
      ]
    },
    {
      "cell_type": "markdown",
      "metadata": {
        "id": "B5qBKi6rHe8D"
      },
      "source": [
        "1. The females should be targeted the most in all cities to improve sales since they earn more and spend more than the average nmale.\n",
        "2. The cities, Bengaluru and Chennai have the highest number of recorded customers but the lowest average SpendingScore, hence, marketing strategies should be put in place to improve sales in these regions.\n",
        "3. Advertisements should be tailored to suit older women of the ages 45 to 66 as they shop more and spend more.\n",
        "\n",
        "**Thank you for reading.**"
      ]
    }
  ],
  "metadata": {
    "kernelspec": {
      "display_name": "Python 3",
      "language": "python",
      "name": "python3"
    },
    "language_info": {
      "codemirror_mode": {
        "name": "ipython",
        "version": 3
      },
      "file_extension": ".py",
      "mimetype": "text/x-python",
      "name": "python",
      "nbconvert_exporter": "python",
      "pygments_lexer": "ipython3",
      "version": "3.7.0"
    },
    "colab": {
      "name": "Copy of Customer Data Analysis Using Python-checkpoint.ipynb",
      "provenance": [],
      "include_colab_link": true
    }
  },
  "nbformat": 4,
  "nbformat_minor": 0
}